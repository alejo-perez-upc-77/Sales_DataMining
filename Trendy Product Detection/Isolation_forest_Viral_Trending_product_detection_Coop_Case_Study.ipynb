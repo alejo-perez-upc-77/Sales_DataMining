{
 "cells": [
  {
   "cell_type": "markdown",
   "id": "96f43e85",
   "metadata": {
    "id": "96f43e85"
   },
   "source": [
    "# Coop Case Study - Viral Trending product detection"
   ]
  },
  {
   "cell_type": "markdown",
   "id": "faafc1fd",
   "metadata": {
    "id": "faafc1fd"
   },
   "source": [
    "## Anomaly detection approach"
   ]
  },
  {
   "cell_type": "markdown",
   "id": "c1919706",
   "metadata": {
    "id": "c1919706"
   },
   "source": [
    "## Preprocessing"
   ]
  },
  {
   "cell_type": "code",
   "execution_count": 4,
   "id": "481a9c7d",
   "metadata": {
    "id": "481a9c7d"
   },
   "outputs": [],
   "source": [
    "# Libraries \n",
    "import seaborn as sns\n",
    "import pandas as pd\n",
    "import matplotlib.pyplot as plt\n",
    "import numpy as np\n",
    "import matplotlib.pylab as pylab\n",
    "import datetime as dt\n",
    "import matplotlib.pyplot as plt\n",
    "import matplotlib.dates as mdates\n",
    "from sklearn.metrics import mean_squared_error as mse \n",
    "from sklearn.neural_network import MLPRegressor\n",
    "\n",
    "params = {'legend.fontsize': 'x-large',\n",
    "          'figure.figsize': (22, 14),\n",
    "         'axes.labelsize': 'x-large',\n",
    "         'axes.titlesize':'x-large',\n",
    "         'xtick.labelsize':'x-large',\n",
    "         'ytick.labelsize':'x-large',\n",
    "         'axes.grid':True}\n",
    "\n",
    "pylab.rcParams.update(params)"
   ]
  },
  {
   "cell_type": "code",
   "execution_count": 5,
   "id": "ljDVuhMsc_yK",
   "metadata": {
    "colab": {
     "base_uri": "https://localhost:8080/"
    },
    "id": "ljDVuhMsc_yK",
    "outputId": "102bed58-4ef7-4624-f70e-69a40ff4b809"
   },
   "outputs": [
    {
     "name": "stdout",
     "output_type": "stream",
     "text": [
      "Mounted at /content/drive\n"
     ]
    }
   ],
   "source": [
    "from google.colab import drive\n",
    "drive.mount('/content/drive')"
   ]
  },
  {
   "cell_type": "code",
   "execution_count": 6,
   "id": "_SrPdPSZdImD",
   "metadata": {
    "id": "_SrPdPSZdImD"
   },
   "outputs": [],
   "source": [
    "name_file = '/content/drive/MyDrive/rl_4months.csv'"
   ]
  },
  {
   "cell_type": "markdown",
   "id": "ee041616",
   "metadata": {
    "id": "ee041616"
   },
   "source": [
    "#### Import functions from ./Functions_Forecasting AR file in this same folder, look for comments on the functions in that notebook\n",
    "\n"
   ]
  },
  {
   "cell_type": "code",
   "execution_count": 7,
   "id": "o7m5Q9aFdY1y",
   "metadata": {
    "id": "o7m5Q9aFdY1y"
   },
   "outputs": [],
   "source": [
    "import numpy as np\n",
    "import pandas as  pd\n",
    "import matplotlib.pyplot as plt \n",
    "from sklearn import *\n",
    "import math\n",
    "from matplotlib.pyplot import figure\n",
    "import matplotlib.pyplot as plt\n",
    "import scipy\n",
    "from sklearn import linear_model as lm  # Used for solving linear regression problems\n",
    "import numpy as np\n",
    "import matplotlib.pyplot as plt\n",
    "from scipy.stats import norm\n",
    "import cmath\n",
    "import math\n",
    "import datetime as dt\n",
    "import matplotlib.dates as mdates\n",
    "from sklearn.neural_network import MLPRegressor\n",
    "\n",
    "\n",
    "def get_hourly_purchases(df_agg_hours,timestamp_agg_hours, ItemID):\n",
    "    \n",
    "    \"\"\"\n",
    "    Generates a dataframe with the chosen ItemID and its purchases every hour \n",
    "    Arguments:\n",
    "        df_agg_hours: df with the aggregated purchases by timestamp (day+hour) and ItemID\n",
    "        ItemID: Size of the plot, tuple\n",
    "        timestamp_agg_hours: Support dictionary that has all the hours during the month to be filled\n",
    "        Returns:\n",
    "        Hourly Purchases of ItemID == ID in a DataFrame.\n",
    "    \"\"\"\n",
    "    \n",
    "    support = dict(zip(timestamp_agg_hours,[0]*len(timestamp_agg_hours)))\n",
    "    filler = df_agg_hours[df_agg_hours['ItemID']==ItemID]\n",
    "    \n",
    "    \n",
    "    for i in range(len(filler)):\n",
    "        support[filler.iloc[i,0]] = filler.iloc[i,-1]\n",
    "\n",
    "\n",
    "    df = pd.DataFrame(support.items(), columns=['timestamp', 'quantity']).set_index('timestamp')\n",
    "\n",
    "    return df\n",
    "\n",
    "def get_daily_purchases(df_agg_days, timestamp_agg_days, ItemID):\n",
    "    \n",
    "    \"\"\"\n",
    "    Generates a dataframe with the chosen ItemID and its purchases every hour \n",
    "    Arguments:\n",
    "        df_agg_days: df with the aggregated purchases by day and ItemID\n",
    "        ItemID: Size of the plot, tuple\n",
    "        Returns:\n",
    "        Daily Purchases of ItemID == ID in a DataFrame.\n",
    "    \"\"\"\n",
    "    support = dict(zip(timestamp_agg_days,[0]*len(timestamp_agg_days)))\n",
    "    filler = df_agg_days[df_agg_days['ItemID']==ItemID]\n",
    "    \n",
    "    for i in range(len(filler)):\n",
    "        support[filler.iloc[i,0]] = filler.iloc[i,-1]\n",
    "\n",
    "    df = pd.DataFrame(support.items(), columns=['DayDate', 'quantity']).set_index('DayDate')\n",
    "    \n",
    "    return df\n",
    "\n",
    "def plot_trend_item(name_product, series, daily, size=(20, 8), interval = 10):\n",
    "    \"\"\"\n",
    "    Plots the trend of an item groupped in the span of days of hours.\n",
    "    Arguments:\n",
    "        name_product: NameID to be shown in title\n",
    "        series: DF with 2 columns: one has to be date times (%Y-%m-%d or %Y-%m-%d %H) and the other the \n",
    "            actual frequency counting of that product\n",
    "        size: Size of the plot, tuple\n",
    "        daily: boolean, True if the aggregation is daily based, False if hourly\n",
    "        Returns:\n",
    "        Plot of this Series\n",
    "    \"\"\"\n",
    "    # Define plot space\n",
    "    # define if hourly\n",
    "    time_span = \"Daily\" if daily else \"Hourly\"\n",
    "\n",
    "    plt.figure(figsize=size)    \n",
    "    plt.title(time_span + \" purchase trend of item = \" + name_product, size=20)    \n",
    "    plt.plot(series, label='sales', color=\"blue\")   \n",
    "    plt.gca().xaxis.set_major_locator(mdates.DayLocator(interval=interval))\n",
    "\n",
    "\n",
    "    plt.xlabel(\"Time (\" + time_span + \")\", size=20)\n",
    "    plt.ylabel(\"Units Sales\", size=20)\n",
    "\n",
    "    # plot labels\n",
    "    #ax.set(\n",
    "    #xlabel = \"Time (\" + time_span + \")\",\n",
    "   # ylabel = \"Units\",\n",
    "   # )\n",
    "    \n",
    "   # if daily:\n",
    "   #     plt.gca().xaxis.set_major_formatter(mdates.DateFormatter('%Y-%m-%d'))\n",
    "   # else:\n",
    "    #    plt.gca().xaxis.set_major_formatter(mdates.DateFormatter('%Y-%m-%d %H'))\n",
    "\n",
    "    plt.xticks(rotation = 90) # Rotates X-Axis Ticks by 90-degrees\n",
    "\n",
    "    plt.grid(True)\n",
    "\n",
    "\n",
    "\n",
    "\n",
    "def plot_predictions_1step(y_pred, y_true, name_item, train_size, daily=1, size=(25,8), interval = 2):\n",
    "    \n",
    "    # define if hourly\n",
    "    time_span = \"Daily\" if daily else \"Hourly\"\n",
    "    \n",
    "    # plot labels\n",
    "    #ax.set(\n",
    "    #xlabel = \"Time (days)\",\n",
    "    #ylabel = \"Units\",\n",
    "   # )\n",
    "    \n",
    "    \n",
    "    \n",
    "   # x = [dt.datetime.strptime(d,'%Y-%m-%d').date() for d in y_true.index.values]\n",
    "    #plt.gca().xaxis.set_major_formatter(mdates.DateFormatter('%Y-%m-%d'))\n",
    "\n",
    "    #plt.gca().xaxis.set_major_locator(mdates.DayLocator(interval=5))\n",
    "    #plt.xticks(rotation = 90) # Rotates X-Axis Ticks by 90-degrees\n",
    "    plt.title(\"1-step-ahead prediction for product = \" + name_item, size=20)    \n",
    "    plt.plot(y_pred, label='Sales Predicted', color=\"blue\")   \n",
    "    plt.plot(y_true, label='True Sales', color=\"brown\")   \n",
    "    \n",
    "    plt.gca().xaxis.set_major_locator(mdates.DayLocator(interval=interval))\n",
    "    plt.xticks(rotation = 90) # Rotates X-Axis Ticks by 90-degrees\n",
    "\n",
    "    plt.xlabel(\"Time (\" + time_span + \")\", size=20)\n",
    "    plt.ylabel(\"Units Sales\", size=20)\n",
    "\n",
    "\n",
    "    plt.axvline(x = train_size, color = 'red', linestyle= '--', label = 'burn-in period')\n",
    "    \n",
    "    #plt.plot(x,y_true.quantity.values, label = \"true\")\n",
    "\n",
    "    #plt.plot(x, y_pred, label = \"predictions\")\n",
    "    plt.grid(True)\n",
    "\n",
    "    \n",
    "    plt.legend(fontsize='xx-large')\n",
    "    plt.show()\n",
    "\n",
    "def predict_ar_1step(theta, y_target):\n",
    "    \"\"\"Predicts the value y_t for t = p+1, ..., n, for an AR(p) model, based on the data in y_target using\n",
    "    one-step-ahead prediction.\n",
    "\n",
    "    :param theta: array (p,), AR coefficients, theta=(a1,a2,...,ap).\n",
    "    :param y_target: array (n,), the data points used to compute the predictions.\n",
    "    :return y_pred: array (n-p,), the one-step predictions (\\hat y_{p+1}, ...., \\hat y_n) \n",
    "    \"\"\"\n",
    "\n",
    "    n = len(y_target)\n",
    "    p = theta.shape[1]\n",
    "    \n",
    "    # Number of steps in prediction\n",
    "    m = n-p\n",
    "    y_pred = np.zeros(m+1)\n",
    "    for i in range(m):\n",
    "        y_pred[i] =  (np.flip(y_target[i:i+p]) * theta).sum()\n",
    "        \n",
    "    return y_pred\n",
    "\n",
    "def fit_ar(y, p):\n",
    "    \"\"\"Fits an AR(p) model. The loss function is the sum of squared errors from t=p+1 to t=n.\n",
    "\n",
    "    :param y: array (n,), training data points\n",
    "    :param p: int, AR model order\n",
    "    :return theta: array (p,), learnt AR coefficients\n",
    "    \"\"\"\n",
    "\n",
    "    # Number of training data points\n",
    "    n = y.shape[0]\n",
    "    \n",
    "    # Construct the regression matrix\n",
    "    Phi = np.zeros((n-p, p))\n",
    "    for j in range(p):\n",
    "        Phi[:,j] = y[(p-(j+1)): (n-(j+1)), 0] \n",
    "    \n",
    "    # Drop the first p values from the target vector y\n",
    "    yy = y[p:]  # yy = (y_{t+p+1}, ..., y_n)\n",
    "\n",
    "    # Here we use fit_intercept=False since we do not want to include an intercept term in the AR model\n",
    "    regr = lm.LinearRegression(fit_intercept=False)\n",
    "    regr.fit(Phi,yy)    \n",
    "\n",
    "    return regr.coef_\n",
    "\n",
    "\n",
    "def fit_nar(y, p, nhl):\n",
    "    \"\"\"Fits an AR(p) model. The loss function is the sum of squared errors from t=p+1 to t=n.\n",
    "\n",
    "    :param y: array (n,), training data points\n",
    "    :param p: int, AR model order\n",
    "    :return theta: array (p,), learnt AR coefficients\n",
    "    \"\"\"\n",
    "\n",
    "    # Number of training data points\n",
    "    n = y.shape[0]\n",
    "    \n",
    "    # Construct the regression matrix\n",
    "    Phi = np.zeros((n-p, p))# <COMPLETE THIS LINE>\n",
    "    for j in range(p):\n",
    "        Phi[:,j] = y[(p-(j+1)): (n-(j+1)), 0] # <COMPLETE THIS LINE>\n",
    "    \n",
    "    # Drop the first p values from the target vector y\n",
    "    yy = y[p:].ravel()  # yy = (y_{t+p+1}, ..., y_n)\n",
    "\n",
    "    # Here we use fit_intercept=False since we do not want to include an intercept term in the AR model\n",
    "    regr =  MLPRegressor(hidden_layer_sizes = nhl, max_iter = 1000).fit(Phi, yy)    \n",
    "\n",
    "    return regr\n",
    "\n",
    "def plot_ts(ts, plot_ma=True, plot_intervals=True, window=30,\n",
    "            figsize=(15,5), interval=5):\n",
    "    '''\n",
    "    Plot ts with rolling mean and 95% confidence interval with rolling std.\n",
    "    :parameter    \n",
    "      :param ts: pandas Series    \n",
    "      :param window: num - for rolling stats\n",
    "      :param plot_ma: bool - whether plot moving average\n",
    "      :param plot_intervals: bool - whether plot upper and lower bounds\n",
    "    '''\n",
    "    rolling_mean = ts.rolling(window=window).mean()    \n",
    "    rolling_std = ts.rolling(window=window).std()\n",
    "    plt.figure(figsize=figsize)    \n",
    "    plt.title(ts.name)    \n",
    "    plt.plot(ts[window:], label='Actual values', color=\"black\")   \n",
    "    plt.gca().xaxis.set_major_locator(mdates.DayLocator(interval=interval))\n",
    "\n",
    "    if plot_ma:        \n",
    "        plt.plot(rolling_mean, 'g', label='MA'+str(window),\n",
    "               color=\"red\")    \n",
    "    if plot_intervals:\n",
    "        lower_bound = rolling_mean - (1.96 * rolling_std)\n",
    "        upper_bound = rolling_mean + (1.96 * rolling_std)\n",
    "        \n",
    "    plt.fill_between(x=ts.index, y1=lower_bound, y2=upper_bound,\n",
    "                    color='lightskyblue', alpha=0.4)\n",
    "    \n",
    "    plt.xticks(rotation = 90) # Rotates X-Axis Ticks by 90-degrees\n",
    "\n",
    "    plt.legend(loc='best')\n",
    "    plt.grid(True)\n",
    "    plt.show()\n",
    "\n",
    "\n",
    "def find_outliers(ts, name_item=None, perc=0.01, figsize=(15,5), interval=3, plot=0):\n",
    "    \n",
    "    '''\n",
    "    Find outliers using sklearn unsupervised support vetcor machine.\n",
    "        :parameter\n",
    "        :param ts: pandas Series\n",
    "        :param perc: float - percentage of outliers to look for\n",
    "        :return\n",
    "            dtf with raw ts, outlier 1/0 (yes/no), numeric index\n",
    "    '''\n",
    "    \n",
    "    ## fit svm\n",
    "    scaler = preprocessing.StandardScaler()\n",
    "    ts_scaled = scaler.fit_transform(ts.values.reshape(-1,1))\n",
    "    model = svm.OneClassSVM(nu=perc, kernel=\"rbf\", gamma=0.01)\n",
    "    model.fit(ts_scaled)\n",
    "    ## dtf output\n",
    "    dtf_outliers = ts.to_frame(name=\"ts\")\n",
    "    dtf_outliers[\"index\"] = range(len(ts))\n",
    "    dtf_outliers[\"outlier\"] = model.predict(ts_scaled)\n",
    "    dtf_outliers[\"outlier\"] = dtf_outliers[\"outlier\"].apply(lambda\n",
    "                                              x: 1 if x==-1 else 0)\n",
    "    if plot:\n",
    "        ## plot\n",
    "        fig, ax = plt.subplots(figsize=figsize)\n",
    "        ax.set(title=\"Outliers detection: found \"\n",
    "               +str(sum(dtf_outliers[\"outlier\"]==1))) + ' of product = ' + name_item\n",
    "        ax.plot(dtf_outliers[\"ts\"],\n",
    "                color=\"black\")\n",
    "        ax.scatter(x=dtf_outliers[dtf_outliers[\"outlier\"]==1][\"index\"],\n",
    "                   y=dtf_outliers[dtf_outliers[\"outlier\"]==1]['ts'],\n",
    "                   color='red')\n",
    "        plt.gca().xaxis.set_major_locator(mdates.DayLocator(interval=interval))\n",
    "        plt.xticks(rotation = 90) # Rotates X-Axis Ticks by 90-degrees\n",
    "\n",
    "        ax.grid(True)\n",
    "        plt.show()\n",
    "    \n",
    "    return dtf_outliers\n",
    "\n",
    "def find_outliers_plot(dtf_outliers, name_item= None, figsize=(15,5), interval=3, filter_threshold=None):\n",
    "        dtf_outliers = dtf_outliers.copy()\n",
    "        fig, ax = plt.subplots(figsize=figsize)\n",
    "        ax.plot(dtf_outliers[\"ts\"],\n",
    "                color=\"black\")\n",
    "        \n",
    "        if filter_threshold is not None:\n",
    "            thresh = dtf_outliers.ts.mean() + dtf_outliers.ts.std() * filter_threshold\n",
    "            \n",
    "            idx = dtf_outliers[dtf_outliers['ts'] < thresh ].index\n",
    "            dtf_outliers.loc[idx, 'outlier'] = 0\n",
    "\n",
    "        ax.scatter(x=dtf_outliers[dtf_outliers[\"outlier\"]==1][\"index\"],\n",
    "                   y=dtf_outliers[dtf_outliers[\"outlier\"]==1]['ts'],\n",
    "                   color='red')\n",
    "        \n",
    "        ax.set(title=\"Outliers detection: found \" +str(sum(dtf_outliers[\"outlier\"]==1))+ ' of product = ' + name_item) \n",
    "\n",
    "        plt.gca().xaxis.set_major_locator(mdates.DayLocator(interval=interval))\n",
    "        plt.xticks(rotation = 90) # Rotates X-Axis Ticks by 90-degrees\n",
    "\n",
    "        ax.grid(True)\n",
    "        plt.show()\n",
    "\n",
    "## Creating user-defined function for arranging the results obtained from model into readable format\n",
    "\n",
    "def inspect(results):\n",
    "    lhs         = [tuple(result[2][0][0])[0] for result in results]\n",
    "    rhs         = [tuple(result[2][0][1])[0] for result in results]\n",
    "    supports    = [result[1] for result in results]\n",
    "    confidences = [result[2][0][2] for result in results]\n",
    "    lifts       = [result[2][0][3] for result in results]\n",
    "    \n",
    "    return list(zip(lhs, rhs, supports, confidences, lifts))\n"
   ]
  },
  {
   "cell_type": "markdown",
   "id": "ba1b55f3",
   "metadata": {
    "id": "ba1b55f3"
   },
   "source": [
    "### importing data"
   ]
  },
  {
   "cell_type": "code",
   "execution_count": 8,
   "id": "40f491ac",
   "metadata": {
    "id": "40f491ac"
   },
   "outputs": [],
   "source": [
    "data = pd.read_csv(name_file)"
   ]
  },
  {
   "cell_type": "code",
   "execution_count": 9,
   "id": "236f4ff0",
   "metadata": {
    "colab": {
     "base_uri": "https://localhost:8080/"
    },
    "id": "236f4ff0",
    "outputId": "727992fc-30b5-458b-c37c-afcdfe123582"
   },
   "outputs": [
    {
     "data": {
      "text/plain": [
       "(3221229, 40)"
      ]
     },
     "execution_count": 9,
     "metadata": {},
     "output_type": "execute_result"
    }
   ],
   "source": [
    " data.shape"
   ]
  },
  {
   "cell_type": "code",
   "execution_count": 10,
   "id": "557e095d",
   "metadata": {
    "id": "557e095d",
    "scrolled": true
   },
   "outputs": [],
   "source": [
    "#data[[\"receiptKey\",\"DayDate\",\"hourOfDay\",\"minuteOfHour\",\"quantity\",\"ItemID\"]].iloc[0:20,]"
   ]
  },
  {
   "cell_type": "code",
   "execution_count": 11,
   "id": "901c3e54",
   "metadata": {
    "id": "901c3e54"
   },
   "outputs": [],
   "source": [
    "# Generate unique name \n",
    "data['Unique_Item_Name'] = data['ItemCategoryName'] + '_' + data['ItemSegmentName']"
   ]
  },
  {
   "cell_type": "code",
   "execution_count": 12,
   "id": "3ac5d1e5",
   "metadata": {
    "id": "3ac5d1e5"
   },
   "outputs": [],
   "source": [
    "data_subset = data[['DayDate','hourOfDay', 'ItemID', 'quantity']]\n",
    "\n"
   ]
  },
  {
   "cell_type": "markdown",
   "id": "9dfe84df",
   "metadata": {
    "id": "9dfe84df"
   },
   "source": [
    "### Deletion of returns and false duplicates of Negative and 0 Quantities"
   ]
  },
  {
   "cell_type": "code",
   "execution_count": 13,
   "id": "efd0a524",
   "metadata": {
    "id": "efd0a524"
   },
   "outputs": [],
   "source": [
    "data_subset = data_subset[data_subset.quantity>0]"
   ]
  },
  {
   "cell_type": "code",
   "execution_count": 14,
   "id": "b6fa52d9",
   "metadata": {
    "id": "b6fa52d9"
   },
   "outputs": [],
   "source": [
    "data_subset['timestamp'] = data_subset['DayDate'].astype(str) + ' '+  data_subset['hourOfDay'].astype(str)\n"
   ]
  },
  {
   "cell_type": "markdown",
   "id": "dcb7bab3",
   "metadata": {
    "id": "dcb7bab3"
   },
   "source": [
    "#### Generation of Support Timestamp Vectors"
   ]
  },
  {
   "cell_type": "code",
   "execution_count": 15,
   "id": "703a17a2",
   "metadata": {
    "id": "703a17a2"
   },
   "outputs": [],
   "source": [
    "# Days Vector\n",
    "timestamp_agg_days = data_subset['DayDate'].unique()\n",
    "timestamp_agg_days.sort()\n"
   ]
  },
  {
   "cell_type": "code",
   "execution_count": 16,
   "id": "bbd6d05b",
   "metadata": {
    "id": "bbd6d05b"
   },
   "outputs": [],
   "source": [
    "# Day Hour Vector\n",
    "timestamp_agg_hours = [None] * len(timestamp_agg_days)*16\n",
    "\n",
    "count = 0\n",
    "for i in range(len(timestamp_agg_days)):\n",
    "    \n",
    "    for j in range(16):\n",
    "        \n",
    "        timestamp_agg_hours[count] = timestamp_agg_days[i] + ' ' + str(7 + j)\n",
    "        count+=1\n"
   ]
  },
  {
   "cell_type": "markdown",
   "id": "43037558",
   "metadata": {
    "id": "43037558"
   },
   "source": [
    "### Aggregating Datasets"
   ]
  },
  {
   "cell_type": "code",
   "execution_count": 17,
   "id": "7172f0a7",
   "metadata": {
    "id": "7172f0a7"
   },
   "outputs": [],
   "source": [
    "# Aggregation of items with HOURLY criterion and counting ocurrences\n",
    "\n",
    "df_agg_hours = data_subset.groupby(['timestamp', 'ItemID']).sum()\n",
    "df_agg_hours.reset_index(inplace=True)\n",
    "df_agg_hours.drop(columns=['hourOfDay'], inplace=True)\n",
    "\n",
    "# Aggregation of items with DAYLY criterion and counting ocurrences\n",
    "\n",
    "df_agg_days = data_subset.groupby(['DayDate', 'ItemID']).sum()\n",
    "df_agg_days.reset_index(inplace=True)\n",
    "df_agg_days.drop(columns='hourOfDay', inplace=True)"
   ]
  },
  {
   "cell_type": "code",
   "execution_count": 18,
   "id": "2abbf390",
   "metadata": {
    "colab": {
     "base_uri": "https://localhost:8080/",
     "height": 35
    },
    "id": "2abbf390",
    "outputId": "5f8d3d77-b403-44ad-d123-4c2878872e18"
   },
   "outputs": [
    {
     "data": {
      "application/vnd.google.colaboratory.intrinsic+json": {
       "type": "string"
      },
      "text/plain": [
       "'LÖSVIKTSGODIS_STANDARD'"
      ]
     },
     "execution_count": 18,
     "metadata": {},
     "output_type": "execute_result"
    }
   ],
   "source": [
    "ItemID = 7\n",
    "name_item = data[data[\"ItemID\"]==ItemID]['Unique_Item_Name'].iloc[0]\n",
    "name_item"
   ]
  },
  {
   "cell_type": "code",
   "execution_count": 19,
   "id": "d0e865c5",
   "metadata": {
    "id": "d0e865c5"
   },
   "outputs": [],
   "source": [
    "hourly_purchase_7 = get_hourly_purchases(df_agg_hours,timestamp_agg_hours, ItemID)"
   ]
  },
  {
   "cell_type": "code",
   "execution_count": 20,
   "id": "ccf2d09c",
   "metadata": {
    "id": "ccf2d09c"
   },
   "outputs": [],
   "source": [
    "daily_purchase_7 = get_daily_purchases(df_agg_days, timestamp_agg_days, ItemID)"
   ]
  },
  {
   "cell_type": "code",
   "execution_count": 21,
   "id": "8a52609c",
   "metadata": {
    "colab": {
     "base_uri": "https://localhost:8080/"
    },
    "id": "8a52609c",
    "outputId": "b8a5822e-d4f6-4292-9a10-abcfb69bdc6f"
   },
   "outputs": [
    {
     "data": {
      "text/plain": [
       "quantity    19.310838\n",
       "dtype: float64"
      ]
     },
     "execution_count": 21,
     "metadata": {},
     "output_type": "execute_result"
    }
   ],
   "source": [
    "daily_purchase_7.std() "
   ]
  },
  {
   "cell_type": "code",
   "execution_count": 22,
   "id": "bb4d73cf",
   "metadata": {
    "colab": {
     "base_uri": "https://localhost:8080/",
     "height": 403
    },
    "id": "bb4d73cf",
    "outputId": "7d0bbc41-138a-43bd-fb05-ed7be32da743"
   },
   "outputs": [
    {
     "data": {
      "text/plain": [
       "<matplotlib.lines.Line2D at 0x7fca3086a350>"
      ]
     },
     "execution_count": 22,
     "metadata": {},
     "output_type": "execute_result"
    },
    {
     "data": {
      "image/png": "[encoded data removed]",
      "text/plain": [
       "<Figure size 471.84x360 with 1 Axes>"
      ]
     },
     "metadata": {
      "needs_background": "light"
     },
     "output_type": "display_data"
    }
   ],
   "source": [
    "std_1mean = int((daily_purchase_7.mean() + daily_purchase_7.std()))\n",
    "sns.displot(daily_purchase_7, kde=True).set(title='Mean of the distribution + 1 SD to detect trends')\n",
    "\n",
    "plt.axvline(std_1mean, 0, c='r')\n"
   ]
  },
  {
   "cell_type": "markdown",
   "id": "a3f16d2a",
   "metadata": {
    "id": "a3f16d2a"
   },
   "source": [
    "## Detection using Forecasting"
   ]
  },
  {
   "cell_type": "markdown",
   "id": "29101137",
   "metadata": {
    "id": "29101137"
   },
   "source": [
    "Classify any points that lie outside the boundary as outliers"
   ]
  },
  {
   "cell_type": "markdown",
   "id": "7e8f98e8",
   "metadata": {
    "id": "7e8f98e8"
   },
   "source": [
    "## Let's loop and retrieve all the anomalies!"
   ]
  },
  {
   "cell_type": "markdown",
   "id": "7dce23ac",
   "metadata": {
    "id": "7dce23ac"
   },
   "source": [
    "Advisable to downsample dataset to most sold Items (great computational burden) "
   ]
  },
  {
   "cell_type": "code",
   "execution_count": 23,
   "id": "924e4493",
   "metadata": {
    "id": "924e4493"
   },
   "outputs": [],
   "source": [
    "unique_itemIDs = data_subset.ItemID.unique()\n",
    "\n",
    "aggr_df = [None]*len(unique_itemIDs)\n",
    "dictionary_agg_ID = dict(zip(unique_itemIDs, aggr_df))\n"
   ]
  },
  {
   "cell_type": "code",
   "execution_count": 24,
   "id": "a54c4fb6",
   "metadata": {
    "colab": {
     "base_uri": "https://localhost:8080/",
     "height": 424
    },
    "id": "a54c4fb6",
    "outputId": "993a79f6-6d03-4677-e0cc-32e542ee0e33"
   },
   "outputs": [
    {
     "data": {
      "text/html": [
       "\n",
       "  <div id=\"df-53898b1b-ad35-47c5-bea1-76bdd750e2de\">\n",
       "    <div class=\"colab-df-container\">\n",
       "      <div>\n",
       "<style scoped>\n",
       "    .dataframe tbody tr th:only-of-type {\n",
       "        vertical-align: middle;\n",
       "    }\n",
       "\n",
       "    .dataframe tbody tr th {\n",
       "        vertical-align: top;\n",
       "    }\n",
       "\n",
       "    .dataframe thead th {\n",
       "        text-align: right;\n",
       "    }\n",
       "</style>\n",
       "<table border=\"1\" class=\"dataframe\">\n",
       "  <thead>\n",
       "    <tr style=\"text-align: right;\">\n",
       "      <th></th>\n",
       "      <th>DayDate</th>\n",
       "      <th>ItemID</th>\n",
       "      <th>quantity</th>\n",
       "    </tr>\n",
       "  </thead>\n",
       "  <tbody>\n",
       "    <tr>\n",
       "      <th>0</th>\n",
       "      <td>2020-02-01</td>\n",
       "      <td>5</td>\n",
       "      <td>1.296</td>\n",
       "    </tr>\n",
       "    <tr>\n",
       "      <th>1</th>\n",
       "      <td>2020-02-01</td>\n",
       "      <td>7</td>\n",
       "      <td>56.910</td>\n",
       "    </tr>\n",
       "    <tr>\n",
       "      <th>2</th>\n",
       "      <td>2020-02-01</td>\n",
       "      <td>8</td>\n",
       "      <td>2.808</td>\n",
       "    </tr>\n",
       "    <tr>\n",
       "      <th>3</th>\n",
       "      <td>2020-02-01</td>\n",
       "      <td>22</td>\n",
       "      <td>1.000</td>\n",
       "    </tr>\n",
       "    <tr>\n",
       "      <th>4</th>\n",
       "      <td>2020-02-01</td>\n",
       "      <td>33</td>\n",
       "      <td>1.522</td>\n",
       "    </tr>\n",
       "    <tr>\n",
       "      <th>...</th>\n",
       "      <td>...</td>\n",
       "      <td>...</td>\n",
       "      <td>...</td>\n",
       "    </tr>\n",
       "    <tr>\n",
       "      <th>697397</th>\n",
       "      <td>2020-05-31</td>\n",
       "      <td>793899</td>\n",
       "      <td>2.000</td>\n",
       "    </tr>\n",
       "    <tr>\n",
       "      <th>697398</th>\n",
       "      <td>2020-05-31</td>\n",
       "      <td>794116</td>\n",
       "      <td>1.000</td>\n",
       "    </tr>\n",
       "    <tr>\n",
       "      <th>697399</th>\n",
       "      <td>2020-05-31</td>\n",
       "      <td>802115</td>\n",
       "      <td>1.000</td>\n",
       "    </tr>\n",
       "    <tr>\n",
       "      <th>697400</th>\n",
       "      <td>2020-05-31</td>\n",
       "      <td>804121</td>\n",
       "      <td>1.000</td>\n",
       "    </tr>\n",
       "    <tr>\n",
       "      <th>697401</th>\n",
       "      <td>2020-05-31</td>\n",
       "      <td>805612</td>\n",
       "      <td>1.000</td>\n",
       "    </tr>\n",
       "  </tbody>\n",
       "</table>\n",
       "<p>697402 rows × 3 columns</p>\n",
       "</div>\n",
       "      <button class=\"colab-df-convert\" onclick=\"convertToInteractive('df-53898b1b-ad35-47c5-bea1-76bdd750e2de')\"\n",
       "              title=\"Convert this dataframe to an interactive table.\"\n",
       "              style=\"display:none;\">\n",
       "        \n",
       "  <svg xmlns=\"http://www.w3.org/2000/svg\" height=\"24px\"viewBox=\"0 0 24 24\"\n",
       "       width=\"24px\">\n",
       "    <path d=\"M0 0h24v24H0V0z\" fill=\"none\"/>\n",
       "    <path d=\"M18.56 5.44l.94 2.06.94-2.06 2.06-.94-2.06-.94-.94-2.06-.94 2.06-2.06.94zm-11 1L8.5 8.5l.94-2.06 2.06-.94-2.06-.94L8.5 2.5l-.94 2.06-2.06.94zm10 10l.94 2.06.94-2.06 2.06-.94-2.06-.94-.94-2.06-.94 2.06-2.06.94z\"/><path d=\"M17.41 7.96l-1.37-1.37c-.4-.4-.92-.59-1.43-.59-.52 0-1.04.2-1.43.59L10.3 9.45l-7.72 7.72c-.78.78-.78 2.05 0 2.83L4 21.41c.39.39.9.59 1.41.59.51 0 1.02-.2 1.41-.59l7.78-7.78 2.81-2.81c.8-.78.8-2.07 0-2.86zM5.41 20L4 18.59l7.72-7.72 1.47 1.35L5.41 20z\"/>\n",
       "  </svg>\n",
       "      </button>\n",
       "      \n",
       "  <style>\n",
       "    .colab-df-container {\n",
       "      display:flex;\n",
       "      flex-wrap:wrap;\n",
       "      gap: 12px;\n",
       "    }\n",
       "\n",
       "    .colab-df-convert {\n",
       "      background-color: #E8F0FE;\n",
       "      border: none;\n",
       "      border-radius: 50%;\n",
       "      cursor: pointer;\n",
       "      display: none;\n",
       "      fill: #1967D2;\n",
       "      height: 32px;\n",
       "      padding: 0 0 0 0;\n",
       "      width: 32px;\n",
       "    }\n",
       "\n",
       "    .colab-df-convert:hover {\n",
       "      background-color: #E2EBFA;\n",
       "      box-shadow: 0px 1px 2px rgba(60, 64, 67, 0.3), 0px 1px 3px 1px rgba(60, 64, 67, 0.15);\n",
       "      fill: #174EA6;\n",
       "    }\n",
       "\n",
       "    [theme=dark] .colab-df-convert {\n",
       "      background-color: #3B4455;\n",
       "      fill: #D2E3FC;\n",
       "    }\n",
       "\n",
       "    [theme=dark] .colab-df-convert:hover {\n",
       "      background-color: #434B5C;\n",
       "      box-shadow: 0px 1px 3px 1px rgba(0, 0, 0, 0.15);\n",
       "      filter: drop-shadow(0px 1px 2px rgba(0, 0, 0, 0.3));\n",
       "      fill: #FFFFFF;\n",
       "    }\n",
       "  </style>\n",
       "\n",
       "      <script>\n",
       "        const buttonEl =\n",
       "          document.querySelector('#df-53898b1b-ad35-47c5-bea1-76bdd750e2de button.colab-df-convert');\n",
       "        buttonEl.style.display =\n",
       "          google.colab.kernel.accessAllowed ? 'block' : 'none';\n",
       "\n",
       "        async function convertToInteractive(key) {\n",
       "          const element = document.querySelector('#df-53898b1b-ad35-47c5-bea1-76bdd750e2de');\n",
       "          const dataTable =\n",
       "            await google.colab.kernel.invokeFunction('convertToInteractive',\n",
       "                                                     [key], {});\n",
       "          if (!dataTable) return;\n",
       "\n",
       "          const docLinkHtml = 'Like what you see? Visit the ' +\n",
       "            '<a target=\"_blank\" href=https://colab.research.google.com/notebooks/data_table.ipynb>data table notebook</a>'\n",
       "            + ' to learn more about interactive tables.';\n",
       "          element.innerHTML = '';\n",
       "          dataTable['output_type'] = 'display_data';\n",
       "          await google.colab.output.renderOutput(dataTable, element);\n",
       "          const docLink = document.createElement('div');\n",
       "          docLink.innerHTML = docLinkHtml;\n",
       "          element.appendChild(docLink);\n",
       "        }\n",
       "      </script>\n",
       "    </div>\n",
       "  </div>\n",
       "  "
      ],
      "text/plain": [
       "           DayDate  ItemID  quantity\n",
       "0       2020-02-01       5     1.296\n",
       "1       2020-02-01       7    56.910\n",
       "2       2020-02-01       8     2.808\n",
       "3       2020-02-01      22     1.000\n",
       "4       2020-02-01      33     1.522\n",
       "...            ...     ...       ...\n",
       "697397  2020-05-31  793899     2.000\n",
       "697398  2020-05-31  794116     1.000\n",
       "697399  2020-05-31  802115     1.000\n",
       "697400  2020-05-31  804121     1.000\n",
       "697401  2020-05-31  805612     1.000\n",
       "\n",
       "[697402 rows x 3 columns]"
      ]
     },
     "execution_count": 24,
     "metadata": {},
     "output_type": "execute_result"
    }
   ],
   "source": [
    "df_agg_days"
   ]
  },
  {
   "cell_type": "code",
   "execution_count": 25,
   "id": "44026120",
   "metadata": {
    "id": "44026120"
   },
   "outputs": [],
   "source": [
    "for i in unique_itemIDs:\n",
    "    \n",
    "    dictionary_agg_ID[i] = get_daily_purchases(df_agg_days, timestamp_agg_days, i)"
   ]
  },
  {
   "cell_type": "code",
   "execution_count": 26,
   "id": "98ea87c0",
   "metadata": {
    "colab": {
     "base_uri": "https://localhost:8080/"
    },
    "id": "98ea87c0",
    "outputId": "f60550dc-70e2-4a26-89de-53c8a3a7dc02"
   },
   "outputs": [
    {
     "data": {
      "text/plain": [
       "196375"
      ]
     },
     "execution_count": 26,
     "metadata": {},
     "output_type": "execute_result"
    }
   ],
   "source": [
    "unique_itemIDs[-1]"
   ]
  },
  {
   "cell_type": "code",
   "execution_count": 27,
   "id": "b91bf18c",
   "metadata": {
    "colab": {
     "base_uri": "https://localhost:8080/",
     "height": 424
    },
    "id": "b91bf18c",
    "outputId": "fd8df0bf-7695-493d-c12d-4d876d6dfb30"
   },
   "outputs": [
    {
     "data": {
      "text/html": [
       "\n",
       "  <div id=\"df-faccef6f-9ed7-4b6e-b7af-5c857d746a29\">\n",
       "    <div class=\"colab-df-container\">\n",
       "      <div>\n",
       "<style scoped>\n",
       "    .dataframe tbody tr th:only-of-type {\n",
       "        vertical-align: middle;\n",
       "    }\n",
       "\n",
       "    .dataframe tbody tr th {\n",
       "        vertical-align: top;\n",
       "    }\n",
       "\n",
       "    .dataframe thead th {\n",
       "        text-align: right;\n",
       "    }\n",
       "</style>\n",
       "<table border=\"1\" class=\"dataframe\">\n",
       "  <thead>\n",
       "    <tr style=\"text-align: right;\">\n",
       "      <th></th>\n",
       "      <th>ds</th>\n",
       "      <th>y</th>\n",
       "    </tr>\n",
       "  </thead>\n",
       "  <tbody>\n",
       "    <tr>\n",
       "      <th>0</th>\n",
       "      <td>2020-02-01</td>\n",
       "      <td>56.910</td>\n",
       "    </tr>\n",
       "    <tr>\n",
       "      <th>1</th>\n",
       "      <td>2020-02-02</td>\n",
       "      <td>8.854</td>\n",
       "    </tr>\n",
       "    <tr>\n",
       "      <th>2</th>\n",
       "      <td>2020-02-03</td>\n",
       "      <td>11.944</td>\n",
       "    </tr>\n",
       "    <tr>\n",
       "      <th>3</th>\n",
       "      <td>2020-02-04</td>\n",
       "      <td>16.202</td>\n",
       "    </tr>\n",
       "    <tr>\n",
       "      <th>4</th>\n",
       "      <td>2020-02-05</td>\n",
       "      <td>11.662</td>\n",
       "    </tr>\n",
       "    <tr>\n",
       "      <th>...</th>\n",
       "      <td>...</td>\n",
       "      <td>...</td>\n",
       "    </tr>\n",
       "    <tr>\n",
       "      <th>116</th>\n",
       "      <td>2020-05-27</td>\n",
       "      <td>8.256</td>\n",
       "    </tr>\n",
       "    <tr>\n",
       "      <th>117</th>\n",
       "      <td>2020-05-28</td>\n",
       "      <td>5.410</td>\n",
       "    </tr>\n",
       "    <tr>\n",
       "      <th>118</th>\n",
       "      <td>2020-05-29</td>\n",
       "      <td>12.018</td>\n",
       "    </tr>\n",
       "    <tr>\n",
       "      <th>119</th>\n",
       "      <td>2020-05-30</td>\n",
       "      <td>9.166</td>\n",
       "    </tr>\n",
       "    <tr>\n",
       "      <th>120</th>\n",
       "      <td>2020-05-31</td>\n",
       "      <td>1.870</td>\n",
       "    </tr>\n",
       "  </tbody>\n",
       "</table>\n",
       "<p>121 rows × 2 columns</p>\n",
       "</div>\n",
       "      <button class=\"colab-df-convert\" onclick=\"convertToInteractive('df-faccef6f-9ed7-4b6e-b7af-5c857d746a29')\"\n",
       "              title=\"Convert this dataframe to an interactive table.\"\n",
       "              style=\"display:none;\">\n",
       "        \n",
       "  <svg xmlns=\"http://www.w3.org/2000/svg\" height=\"24px\"viewBox=\"0 0 24 24\"\n",
       "       width=\"24px\">\n",
       "    <path d=\"M0 0h24v24H0V0z\" fill=\"none\"/>\n",
       "    <path d=\"M18.56 5.44l.94 2.06.94-2.06 2.06-.94-2.06-.94-.94-2.06-.94 2.06-2.06.94zm-11 1L8.5 8.5l.94-2.06 2.06-.94-2.06-.94L8.5 2.5l-.94 2.06-2.06.94zm10 10l.94 2.06.94-2.06 2.06-.94-2.06-.94-.94-2.06-.94 2.06-2.06.94z\"/><path d=\"M17.41 7.96l-1.37-1.37c-.4-.4-.92-.59-1.43-.59-.52 0-1.04.2-1.43.59L10.3 9.45l-7.72 7.72c-.78.78-.78 2.05 0 2.83L4 21.41c.39.39.9.59 1.41.59.51 0 1.02-.2 1.41-.59l7.78-7.78 2.81-2.81c.8-.78.8-2.07 0-2.86zM5.41 20L4 18.59l7.72-7.72 1.47 1.35L5.41 20z\"/>\n",
       "  </svg>\n",
       "      </button>\n",
       "      \n",
       "  <style>\n",
       "    .colab-df-container {\n",
       "      display:flex;\n",
       "      flex-wrap:wrap;\n",
       "      gap: 12px;\n",
       "    }\n",
       "\n",
       "    .colab-df-convert {\n",
       "      background-color: #E8F0FE;\n",
       "      border: none;\n",
       "      border-radius: 50%;\n",
       "      cursor: pointer;\n",
       "      display: none;\n",
       "      fill: #1967D2;\n",
       "      height: 32px;\n",
       "      padding: 0 0 0 0;\n",
       "      width: 32px;\n",
       "    }\n",
       "\n",
       "    .colab-df-convert:hover {\n",
       "      background-color: #E2EBFA;\n",
       "      box-shadow: 0px 1px 2px rgba(60, 64, 67, 0.3), 0px 1px 3px 1px rgba(60, 64, 67, 0.15);\n",
       "      fill: #174EA6;\n",
       "    }\n",
       "\n",
       "    [theme=dark] .colab-df-convert {\n",
       "      background-color: #3B4455;\n",
       "      fill: #D2E3FC;\n",
       "    }\n",
       "\n",
       "    [theme=dark] .colab-df-convert:hover {\n",
       "      background-color: #434B5C;\n",
       "      box-shadow: 0px 1px 3px 1px rgba(0, 0, 0, 0.15);\n",
       "      filter: drop-shadow(0px 1px 2px rgba(0, 0, 0, 0.3));\n",
       "      fill: #FFFFFF;\n",
       "    }\n",
       "  </style>\n",
       "\n",
       "      <script>\n",
       "        const buttonEl =\n",
       "          document.querySelector('#df-faccef6f-9ed7-4b6e-b7af-5c857d746a29 button.colab-df-convert');\n",
       "        buttonEl.style.display =\n",
       "          google.colab.kernel.accessAllowed ? 'block' : 'none';\n",
       "\n",
       "        async function convertToInteractive(key) {\n",
       "          const element = document.querySelector('#df-faccef6f-9ed7-4b6e-b7af-5c857d746a29');\n",
       "          const dataTable =\n",
       "            await google.colab.kernel.invokeFunction('convertToInteractive',\n",
       "                                                     [key], {});\n",
       "          if (!dataTable) return;\n",
       "\n",
       "          const docLinkHtml = 'Like what you see? Visit the ' +\n",
       "            '<a target=\"_blank\" href=https://colab.research.google.com/notebooks/data_table.ipynb>data table notebook</a>'\n",
       "            + ' to learn more about interactive tables.';\n",
       "          element.innerHTML = '';\n",
       "          dataTable['output_type'] = 'display_data';\n",
       "          await google.colab.output.renderOutput(dataTable, element);\n",
       "          const docLink = document.createElement('div');\n",
       "          docLink.innerHTML = docLinkHtml;\n",
       "          element.appendChild(docLink);\n",
       "        }\n",
       "      </script>\n",
       "    </div>\n",
       "  </div>\n",
       "  "
      ],
      "text/plain": [
       "             ds       y\n",
       "0    2020-02-01  56.910\n",
       "1    2020-02-02   8.854\n",
       "2    2020-02-03  11.944\n",
       "3    2020-02-04  16.202\n",
       "4    2020-02-05  11.662\n",
       "..          ...     ...\n",
       "116  2020-05-27   8.256\n",
       "117  2020-05-28   5.410\n",
       "118  2020-05-29  12.018\n",
       "119  2020-05-30   9.166\n",
       "120  2020-05-31   1.870\n",
       "\n",
       "[121 rows x 2 columns]"
      ]
     },
     "execution_count": 27,
     "metadata": {},
     "output_type": "execute_result"
    }
   ],
   "source": [
    "ItemID = 7\n",
    "t = dictionary_agg_ID[ItemID]\n",
    "t  = t.reset_index().rename(columns={'DayDate':'ds','quantity':'y'})\n",
    "t"
   ]
  },
  {
   "cell_type": "code",
   "execution_count": 28,
   "id": "66ff4a83",
   "metadata": {
    "id": "66ff4a83"
   },
   "outputs": [],
   "source": [
    "from sklearn.preprocessing import StandardScaler\n",
    "from sklearn.decomposition import PCA\n",
    "from sklearn.covariance import EllipticEnvelope\n",
    "from sklearn.ensemble import IsolationForest"
   ]
  },
  {
   "cell_type": "code",
   "execution_count": 29,
   "id": "250e2ffc",
   "metadata": {
    "id": "250e2ffc"
   },
   "outputs": [],
   "source": [
    "\n",
    "scaler = StandardScaler()\n",
    "np_scaled = scaler.fit_transform(t.y.values.reshape(-1, 1))\n",
    "data_sc = pd.DataFrame(np_scaled)"
   ]
  },
  {
   "cell_type": "code",
   "execution_count": 30,
   "id": "3ac1e644",
   "metadata": {
    "colab": {
     "base_uri": "https://localhost:8080/"
    },
    "id": "3ac1e644",
    "outputId": "f42fd56e-30b9-44c4-8835-47fdbc40b0fe"
   },
   "outputs": [
    {
     "data": {
      "text/plain": [
       "IsolationForest(contamination=0.01)"
      ]
     },
     "execution_count": 30,
     "metadata": {},
     "output_type": "execute_result"
    }
   ],
   "source": [
    "# Contamination of forest (proportion of anomalies)\n",
    "outliers_fraction = float(.01)\n",
    "\n",
    "# train isolation forest\n",
    "model =  IsolationForest(contamination=outliers_fraction)\n",
    "model.fit(data_sc) "
   ]
  },
  {
   "cell_type": "code",
   "execution_count": 31,
   "id": "f6e58372",
   "metadata": {
    "colab": {
     "base_uri": "https://localhost:8080/",
     "height": 424
    },
    "id": "f6e58372",
    "outputId": "4014d2f3-204c-454d-8088-8864b693932d"
   },
   "outputs": [
    {
     "data": {
      "text/html": [
       "\n",
       "  <div id=\"df-c9b7254b-9712-4666-a349-ec5e3bc09995\">\n",
       "    <div class=\"colab-df-container\">\n",
       "      <div>\n",
       "<style scoped>\n",
       "    .dataframe tbody tr th:only-of-type {\n",
       "        vertical-align: middle;\n",
       "    }\n",
       "\n",
       "    .dataframe tbody tr th {\n",
       "        vertical-align: top;\n",
       "    }\n",
       "\n",
       "    .dataframe thead th {\n",
       "        text-align: right;\n",
       "    }\n",
       "</style>\n",
       "<table border=\"1\" class=\"dataframe\">\n",
       "  <thead>\n",
       "    <tr style=\"text-align: right;\">\n",
       "      <th></th>\n",
       "      <th>ds</th>\n",
       "      <th>y</th>\n",
       "      <th>anomaly</th>\n",
       "    </tr>\n",
       "  </thead>\n",
       "  <tbody>\n",
       "    <tr>\n",
       "      <th>0</th>\n",
       "      <td>2020-02-01</td>\n",
       "      <td>56.910</td>\n",
       "      <td>1</td>\n",
       "    </tr>\n",
       "    <tr>\n",
       "      <th>1</th>\n",
       "      <td>2020-02-02</td>\n",
       "      <td>8.854</td>\n",
       "      <td>1</td>\n",
       "    </tr>\n",
       "    <tr>\n",
       "      <th>2</th>\n",
       "      <td>2020-02-03</td>\n",
       "      <td>11.944</td>\n",
       "      <td>1</td>\n",
       "    </tr>\n",
       "    <tr>\n",
       "      <th>3</th>\n",
       "      <td>2020-02-04</td>\n",
       "      <td>16.202</td>\n",
       "      <td>1</td>\n",
       "    </tr>\n",
       "    <tr>\n",
       "      <th>4</th>\n",
       "      <td>2020-02-05</td>\n",
       "      <td>11.662</td>\n",
       "      <td>1</td>\n",
       "    </tr>\n",
       "    <tr>\n",
       "      <th>...</th>\n",
       "      <td>...</td>\n",
       "      <td>...</td>\n",
       "      <td>...</td>\n",
       "    </tr>\n",
       "    <tr>\n",
       "      <th>116</th>\n",
       "      <td>2020-05-27</td>\n",
       "      <td>8.256</td>\n",
       "      <td>1</td>\n",
       "    </tr>\n",
       "    <tr>\n",
       "      <th>117</th>\n",
       "      <td>2020-05-28</td>\n",
       "      <td>5.410</td>\n",
       "      <td>1</td>\n",
       "    </tr>\n",
       "    <tr>\n",
       "      <th>118</th>\n",
       "      <td>2020-05-29</td>\n",
       "      <td>12.018</td>\n",
       "      <td>1</td>\n",
       "    </tr>\n",
       "    <tr>\n",
       "      <th>119</th>\n",
       "      <td>2020-05-30</td>\n",
       "      <td>9.166</td>\n",
       "      <td>1</td>\n",
       "    </tr>\n",
       "    <tr>\n",
       "      <th>120</th>\n",
       "      <td>2020-05-31</td>\n",
       "      <td>1.870</td>\n",
       "      <td>1</td>\n",
       "    </tr>\n",
       "  </tbody>\n",
       "</table>\n",
       "<p>121 rows × 3 columns</p>\n",
       "</div>\n",
       "      <button class=\"colab-df-convert\" onclick=\"convertToInteractive('df-c9b7254b-9712-4666-a349-ec5e3bc09995')\"\n",
       "              title=\"Convert this dataframe to an interactive table.\"\n",
       "              style=\"display:none;\">\n",
       "        \n",
       "  <svg xmlns=\"http://www.w3.org/2000/svg\" height=\"24px\"viewBox=\"0 0 24 24\"\n",
       "       width=\"24px\">\n",
       "    <path d=\"M0 0h24v24H0V0z\" fill=\"none\"/>\n",
       "    <path d=\"M18.56 5.44l.94 2.06.94-2.06 2.06-.94-2.06-.94-.94-2.06-.94 2.06-2.06.94zm-11 1L8.5 8.5l.94-2.06 2.06-.94-2.06-.94L8.5 2.5l-.94 2.06-2.06.94zm10 10l.94 2.06.94-2.06 2.06-.94-2.06-.94-.94-2.06-.94 2.06-2.06.94z\"/><path d=\"M17.41 7.96l-1.37-1.37c-.4-.4-.92-.59-1.43-.59-.52 0-1.04.2-1.43.59L10.3 9.45l-7.72 7.72c-.78.78-.78 2.05 0 2.83L4 21.41c.39.39.9.59 1.41.59.51 0 1.02-.2 1.41-.59l7.78-7.78 2.81-2.81c.8-.78.8-2.07 0-2.86zM5.41 20L4 18.59l7.72-7.72 1.47 1.35L5.41 20z\"/>\n",
       "  </svg>\n",
       "      </button>\n",
       "      \n",
       "  <style>\n",
       "    .colab-df-container {\n",
       "      display:flex;\n",
       "      flex-wrap:wrap;\n",
       "      gap: 12px;\n",
       "    }\n",
       "\n",
       "    .colab-df-convert {\n",
       "      background-color: #E8F0FE;\n",
       "      border: none;\n",
       "      border-radius: 50%;\n",
       "      cursor: pointer;\n",
       "      display: none;\n",
       "      fill: #1967D2;\n",
       "      height: 32px;\n",
       "      padding: 0 0 0 0;\n",
       "      width: 32px;\n",
       "    }\n",
       "\n",
       "    .colab-df-convert:hover {\n",
       "      background-color: #E2EBFA;\n",
       "      box-shadow: 0px 1px 2px rgba(60, 64, 67, 0.3), 0px 1px 3px 1px rgba(60, 64, 67, 0.15);\n",
       "      fill: #174EA6;\n",
       "    }\n",
       "\n",
       "    [theme=dark] .colab-df-convert {\n",
       "      background-color: #3B4455;\n",
       "      fill: #D2E3FC;\n",
       "    }\n",
       "\n",
       "    [theme=dark] .colab-df-convert:hover {\n",
       "      background-color: #434B5C;\n",
       "      box-shadow: 0px 1px 3px 1px rgba(0, 0, 0, 0.15);\n",
       "      filter: drop-shadow(0px 1px 2px rgba(0, 0, 0, 0.3));\n",
       "      fill: #FFFFFF;\n",
       "    }\n",
       "  </style>\n",
       "\n",
       "      <script>\n",
       "        const buttonEl =\n",
       "          document.querySelector('#df-c9b7254b-9712-4666-a349-ec5e3bc09995 button.colab-df-convert');\n",
       "        buttonEl.style.display =\n",
       "          google.colab.kernel.accessAllowed ? 'block' : 'none';\n",
       "\n",
       "        async function convertToInteractive(key) {\n",
       "          const element = document.querySelector('#df-c9b7254b-9712-4666-a349-ec5e3bc09995');\n",
       "          const dataTable =\n",
       "            await google.colab.kernel.invokeFunction('convertToInteractive',\n",
       "                                                     [key], {});\n",
       "          if (!dataTable) return;\n",
       "\n",
       "          const docLinkHtml = 'Like what you see? Visit the ' +\n",
       "            '<a target=\"_blank\" href=https://colab.research.google.com/notebooks/data_table.ipynb>data table notebook</a>'\n",
       "            + ' to learn more about interactive tables.';\n",
       "          element.innerHTML = '';\n",
       "          dataTable['output_type'] = 'display_data';\n",
       "          await google.colab.output.renderOutput(dataTable, element);\n",
       "          const docLink = document.createElement('div');\n",
       "          docLink.innerHTML = docLinkHtml;\n",
       "          element.appendChild(docLink);\n",
       "        }\n",
       "      </script>\n",
       "    </div>\n",
       "  </div>\n",
       "  "
      ],
      "text/plain": [
       "             ds       y  anomaly\n",
       "0    2020-02-01  56.910        1\n",
       "1    2020-02-02   8.854        1\n",
       "2    2020-02-03  11.944        1\n",
       "3    2020-02-04  16.202        1\n",
       "4    2020-02-05  11.662        1\n",
       "..          ...     ...      ...\n",
       "116  2020-05-27   8.256        1\n",
       "117  2020-05-28   5.410        1\n",
       "118  2020-05-29  12.018        1\n",
       "119  2020-05-30   9.166        1\n",
       "120  2020-05-31   1.870        1\n",
       "\n",
       "[121 rows x 3 columns]"
      ]
     },
     "execution_count": 31,
     "metadata": {},
     "output_type": "execute_result"
    }
   ],
   "source": [
    "t['anomaly'] = model.predict(data_sc)\n",
    "t"
   ]
  },
  {
   "cell_type": "code",
   "execution_count": 32,
   "id": "DKUiezB-sHy-",
   "metadata": {
    "colab": {
     "base_uri": "https://localhost:8080/",
     "height": 112
    },
    "id": "DKUiezB-sHy-",
    "outputId": "15a0c4f5-2a88-45d0-9a3d-ac5bce358fa4"
   },
   "outputs": [
    {
     "data": {
      "text/html": [
       "\n",
       "  <div id=\"df-d751a632-3484-41f7-8cd5-9140ef7b1e62\">\n",
       "    <div class=\"colab-df-container\">\n",
       "      <div>\n",
       "<style scoped>\n",
       "    .dataframe tbody tr th:only-of-type {\n",
       "        vertical-align: middle;\n",
       "    }\n",
       "\n",
       "    .dataframe tbody tr th {\n",
       "        vertical-align: top;\n",
       "    }\n",
       "\n",
       "    .dataframe thead th {\n",
       "        text-align: right;\n",
       "    }\n",
       "</style>\n",
       "<table border=\"1\" class=\"dataframe\">\n",
       "  <thead>\n",
       "    <tr style=\"text-align: right;\">\n",
       "      <th></th>\n",
       "      <th>y</th>\n",
       "    </tr>\n",
       "  </thead>\n",
       "  <tbody>\n",
       "    <tr>\n",
       "      <th>34</th>\n",
       "      <td>79.694</td>\n",
       "    </tr>\n",
       "    <tr>\n",
       "      <th>68</th>\n",
       "      <td>98.204</td>\n",
       "    </tr>\n",
       "  </tbody>\n",
       "</table>\n",
       "</div>\n",
       "      <button class=\"colab-df-convert\" onclick=\"convertToInteractive('df-d751a632-3484-41f7-8cd5-9140ef7b1e62')\"\n",
       "              title=\"Convert this dataframe to an interactive table.\"\n",
       "              style=\"display:none;\">\n",
       "        \n",
       "  <svg xmlns=\"http://www.w3.org/2000/svg\" height=\"24px\"viewBox=\"0 0 24 24\"\n",
       "       width=\"24px\">\n",
       "    <path d=\"M0 0h24v24H0V0z\" fill=\"none\"/>\n",
       "    <path d=\"M18.56 5.44l.94 2.06.94-2.06 2.06-.94-2.06-.94-.94-2.06-.94 2.06-2.06.94zm-11 1L8.5 8.5l.94-2.06 2.06-.94-2.06-.94L8.5 2.5l-.94 2.06-2.06.94zm10 10l.94 2.06.94-2.06 2.06-.94-2.06-.94-.94-2.06-.94 2.06-2.06.94z\"/><path d=\"M17.41 7.96l-1.37-1.37c-.4-.4-.92-.59-1.43-.59-.52 0-1.04.2-1.43.59L10.3 9.45l-7.72 7.72c-.78.78-.78 2.05 0 2.83L4 21.41c.39.39.9.59 1.41.59.51 0 1.02-.2 1.41-.59l7.78-7.78 2.81-2.81c.8-.78.8-2.07 0-2.86zM5.41 20L4 18.59l7.72-7.72 1.47 1.35L5.41 20z\"/>\n",
       "  </svg>\n",
       "      </button>\n",
       "      \n",
       "  <style>\n",
       "    .colab-df-container {\n",
       "      display:flex;\n",
       "      flex-wrap:wrap;\n",
       "      gap: 12px;\n",
       "    }\n",
       "\n",
       "    .colab-df-convert {\n",
       "      background-color: #E8F0FE;\n",
       "      border: none;\n",
       "      border-radius: 50%;\n",
       "      cursor: pointer;\n",
       "      display: none;\n",
       "      fill: #1967D2;\n",
       "      height: 32px;\n",
       "      padding: 0 0 0 0;\n",
       "      width: 32px;\n",
       "    }\n",
       "\n",
       "    .colab-df-convert:hover {\n",
       "      background-color: #E2EBFA;\n",
       "      box-shadow: 0px 1px 2px rgba(60, 64, 67, 0.3), 0px 1px 3px 1px rgba(60, 64, 67, 0.15);\n",
       "      fill: #174EA6;\n",
       "    }\n",
       "\n",
       "    [theme=dark] .colab-df-convert {\n",
       "      background-color: #3B4455;\n",
       "      fill: #D2E3FC;\n",
       "    }\n",
       "\n",
       "    [theme=dark] .colab-df-convert:hover {\n",
       "      background-color: #434B5C;\n",
       "      box-shadow: 0px 1px 3px 1px rgba(0, 0, 0, 0.15);\n",
       "      filter: drop-shadow(0px 1px 2px rgba(0, 0, 0, 0.3));\n",
       "      fill: #FFFFFF;\n",
       "    }\n",
       "  </style>\n",
       "\n",
       "      <script>\n",
       "        const buttonEl =\n",
       "          document.querySelector('#df-d751a632-3484-41f7-8cd5-9140ef7b1e62 button.colab-df-convert');\n",
       "        buttonEl.style.display =\n",
       "          google.colab.kernel.accessAllowed ? 'block' : 'none';\n",
       "\n",
       "        async function convertToInteractive(key) {\n",
       "          const element = document.querySelector('#df-d751a632-3484-41f7-8cd5-9140ef7b1e62');\n",
       "          const dataTable =\n",
       "            await google.colab.kernel.invokeFunction('convertToInteractive',\n",
       "                                                     [key], {});\n",
       "          if (!dataTable) return;\n",
       "\n",
       "          const docLinkHtml = 'Like what you see? Visit the ' +\n",
       "            '<a target=\"_blank\" href=https://colab.research.google.com/notebooks/data_table.ipynb>data table notebook</a>'\n",
       "            + ' to learn more about interactive tables.';\n",
       "          element.innerHTML = '';\n",
       "          dataTable['output_type'] = 'display_data';\n",
       "          await google.colab.output.renderOutput(dataTable, element);\n",
       "          const docLink = document.createElement('div');\n",
       "          docLink.innerHTML = docLinkHtml;\n",
       "          element.appendChild(docLink);\n",
       "        }\n",
       "      </script>\n",
       "    </div>\n",
       "  </div>\n",
       "  "
      ],
      "text/plain": [
       "         y\n",
       "34  79.694\n",
       "68  98.204"
      ]
     },
     "execution_count": 32,
     "metadata": {},
     "output_type": "execute_result"
    }
   ],
   "source": [
    "\n",
    "a = t.loc[t['anomaly'] == -1, ['y']] #anomaly\n",
    "a\n",
    "#t.iloc[a.index]"
   ]
  },
  {
   "cell_type": "code",
   "execution_count": 33,
   "id": "L01TnRZBq4M_",
   "metadata": {
    "colab": {
     "base_uri": "https://localhost:8080/",
     "height": 576
    },
    "id": "L01TnRZBq4M_",
    "outputId": "669ea6d2-3ee9-490e-c099-b5bd613cd413"
   },
   "outputs": [
    {
     "data": {
      "image/png": "[encoded data removed]",
      "text/plain": [
       "<Figure size 1800x576 with 1 Axes>"
      ]
     },
     "metadata": {
      "needs_background": "light"
     },
     "output_type": "display_data"
    }
   ],
   "source": [
    "\n",
    "# visualization\n",
    "fig, ax = plt.subplots(figsize=(25,8))\n",
    "\n",
    "a = t.loc[t['anomaly'] == -1, ['ds', 'y']] #anomaly\n",
    "\n",
    "ax.plot(t.ds, t['y'], color='black', label = 'Normal')\n",
    "ax.scatter(a.ds,a['y'], color='red', label = 'Anomaly')\n",
    "plt.xticks(rotation = 90) # Rotates X-Axis Ticks by 90-degrees\n",
    "\n",
    "ax.set(title=\"Outliers detection of product = \" + name_item)\n",
    "\n",
    "plt.legend()\n",
    "plt.show();\n"
   ]
  },
  {
   "cell_type": "code",
   "execution_count": 34,
   "id": "ZRMMzdd5uw35",
   "metadata": {
    "colab": {
     "base_uri": "https://localhost:8080/",
     "height": 424
    },
    "id": "ZRMMzdd5uw35",
    "outputId": "a60773bd-e2d2-4de8-cb9b-74986eb7a0ba"
   },
   "outputs": [
    {
     "data": {
      "text/html": [
       "\n",
       "  <div id=\"df-591a579c-420d-425f-a9d9-2af7fd745754\">\n",
       "    <div class=\"colab-df-container\">\n",
       "      <div>\n",
       "<style scoped>\n",
       "    .dataframe tbody tr th:only-of-type {\n",
       "        vertical-align: middle;\n",
       "    }\n",
       "\n",
       "    .dataframe tbody tr th {\n",
       "        vertical-align: top;\n",
       "    }\n",
       "\n",
       "    .dataframe thead th {\n",
       "        text-align: right;\n",
       "    }\n",
       "</style>\n",
       "<table border=\"1\" class=\"dataframe\">\n",
       "  <thead>\n",
       "    <tr style=\"text-align: right;\">\n",
       "      <th></th>\n",
       "      <th>ds</th>\n",
       "      <th>y</th>\n",
       "    </tr>\n",
       "  </thead>\n",
       "  <tbody>\n",
       "    <tr>\n",
       "      <th>0</th>\n",
       "      <td>2020-02-01</td>\n",
       "      <td>0.0</td>\n",
       "    </tr>\n",
       "    <tr>\n",
       "      <th>1</th>\n",
       "      <td>2020-02-02</td>\n",
       "      <td>0.0</td>\n",
       "    </tr>\n",
       "    <tr>\n",
       "      <th>2</th>\n",
       "      <td>2020-02-03</td>\n",
       "      <td>0.0</td>\n",
       "    </tr>\n",
       "    <tr>\n",
       "      <th>3</th>\n",
       "      <td>2020-02-04</td>\n",
       "      <td>0.0</td>\n",
       "    </tr>\n",
       "    <tr>\n",
       "      <th>4</th>\n",
       "      <td>2020-02-05</td>\n",
       "      <td>6.0</td>\n",
       "    </tr>\n",
       "    <tr>\n",
       "      <th>...</th>\n",
       "      <td>...</td>\n",
       "      <td>...</td>\n",
       "    </tr>\n",
       "    <tr>\n",
       "      <th>116</th>\n",
       "      <td>2020-05-27</td>\n",
       "      <td>6.0</td>\n",
       "    </tr>\n",
       "    <tr>\n",
       "      <th>117</th>\n",
       "      <td>2020-05-28</td>\n",
       "      <td>6.0</td>\n",
       "    </tr>\n",
       "    <tr>\n",
       "      <th>118</th>\n",
       "      <td>2020-05-29</td>\n",
       "      <td>14.0</td>\n",
       "    </tr>\n",
       "    <tr>\n",
       "      <th>119</th>\n",
       "      <td>2020-05-30</td>\n",
       "      <td>0.0</td>\n",
       "    </tr>\n",
       "    <tr>\n",
       "      <th>120</th>\n",
       "      <td>2020-05-31</td>\n",
       "      <td>0.0</td>\n",
       "    </tr>\n",
       "  </tbody>\n",
       "</table>\n",
       "<p>121 rows × 2 columns</p>\n",
       "</div>\n",
       "      <button class=\"colab-df-convert\" onclick=\"convertToInteractive('df-591a579c-420d-425f-a9d9-2af7fd745754')\"\n",
       "              title=\"Convert this dataframe to an interactive table.\"\n",
       "              style=\"display:none;\">\n",
       "        \n",
       "  <svg xmlns=\"http://www.w3.org/2000/svg\" height=\"24px\"viewBox=\"0 0 24 24\"\n",
       "       width=\"24px\">\n",
       "    <path d=\"M0 0h24v24H0V0z\" fill=\"none\"/>\n",
       "    <path d=\"M18.56 5.44l.94 2.06.94-2.06 2.06-.94-2.06-.94-.94-2.06-.94 2.06-2.06.94zm-11 1L8.5 8.5l.94-2.06 2.06-.94-2.06-.94L8.5 2.5l-.94 2.06-2.06.94zm10 10l.94 2.06.94-2.06 2.06-.94-2.06-.94-.94-2.06-.94 2.06-2.06.94z\"/><path d=\"M17.41 7.96l-1.37-1.37c-.4-.4-.92-.59-1.43-.59-.52 0-1.04.2-1.43.59L10.3 9.45l-7.72 7.72c-.78.78-.78 2.05 0 2.83L4 21.41c.39.39.9.59 1.41.59.51 0 1.02-.2 1.41-.59l7.78-7.78 2.81-2.81c.8-.78.8-2.07 0-2.86zM5.41 20L4 18.59l7.72-7.72 1.47 1.35L5.41 20z\"/>\n",
       "  </svg>\n",
       "      </button>\n",
       "      \n",
       "  <style>\n",
       "    .colab-df-container {\n",
       "      display:flex;\n",
       "      flex-wrap:wrap;\n",
       "      gap: 12px;\n",
       "    }\n",
       "\n",
       "    .colab-df-convert {\n",
       "      background-color: #E8F0FE;\n",
       "      border: none;\n",
       "      border-radius: 50%;\n",
       "      cursor: pointer;\n",
       "      display: none;\n",
       "      fill: #1967D2;\n",
       "      height: 32px;\n",
       "      padding: 0 0 0 0;\n",
       "      width: 32px;\n",
       "    }\n",
       "\n",
       "    .colab-df-convert:hover {\n",
       "      background-color: #E2EBFA;\n",
       "      box-shadow: 0px 1px 2px rgba(60, 64, 67, 0.3), 0px 1px 3px 1px rgba(60, 64, 67, 0.15);\n",
       "      fill: #174EA6;\n",
       "    }\n",
       "\n",
       "    [theme=dark] .colab-df-convert {\n",
       "      background-color: #3B4455;\n",
       "      fill: #D2E3FC;\n",
       "    }\n",
       "\n",
       "    [theme=dark] .colab-df-convert:hover {\n",
       "      background-color: #434B5C;\n",
       "      box-shadow: 0px 1px 3px 1px rgba(0, 0, 0, 0.15);\n",
       "      filter: drop-shadow(0px 1px 2px rgba(0, 0, 0, 0.3));\n",
       "      fill: #FFFFFF;\n",
       "    }\n",
       "  </style>\n",
       "\n",
       "      <script>\n",
       "        const buttonEl =\n",
       "          document.querySelector('#df-591a579c-420d-425f-a9d9-2af7fd745754 button.colab-df-convert');\n",
       "        buttonEl.style.display =\n",
       "          google.colab.kernel.accessAllowed ? 'block' : 'none';\n",
       "\n",
       "        async function convertToInteractive(key) {\n",
       "          const element = document.querySelector('#df-591a579c-420d-425f-a9d9-2af7fd745754');\n",
       "          const dataTable =\n",
       "            await google.colab.kernel.invokeFunction('convertToInteractive',\n",
       "                                                     [key], {});\n",
       "          if (!dataTable) return;\n",
       "\n",
       "          const docLinkHtml = 'Like what you see? Visit the ' +\n",
       "            '<a target=\"_blank\" href=https://colab.research.google.com/notebooks/data_table.ipynb>data table notebook</a>'\n",
       "            + ' to learn more about interactive tables.';\n",
       "          element.innerHTML = '';\n",
       "          dataTable['output_type'] = 'display_data';\n",
       "          await google.colab.output.renderOutput(dataTable, element);\n",
       "          const docLink = document.createElement('div');\n",
       "          docLink.innerHTML = docLinkHtml;\n",
       "          element.appendChild(docLink);\n",
       "        }\n",
       "      </script>\n",
       "    </div>\n",
       "  </div>\n",
       "  "
      ],
      "text/plain": [
       "             ds     y\n",
       "0    2020-02-01   0.0\n",
       "1    2020-02-02   0.0\n",
       "2    2020-02-03   0.0\n",
       "3    2020-02-04   0.0\n",
       "4    2020-02-05   6.0\n",
       "..          ...   ...\n",
       "116  2020-05-27   6.0\n",
       "117  2020-05-28   6.0\n",
       "118  2020-05-29  14.0\n",
       "119  2020-05-30   0.0\n",
       "120  2020-05-31   0.0\n",
       "\n",
       "[121 rows x 2 columns]"
      ]
     },
     "execution_count": 34,
     "metadata": {},
     "output_type": "execute_result"
    }
   ],
   "source": [
    "ItemID = 322\n",
    "t = dictionary_agg_ID[ItemID]\n",
    "t  = t.reset_index().rename(columns={'DayDate':'ds','quantity':'y'})\n",
    "t"
   ]
  },
  {
   "cell_type": "code",
   "execution_count": 34,
   "id": "6-RZV9yFuw4A",
   "metadata": {
    "id": "6-RZV9yFuw4A"
   },
   "outputs": [],
   "source": []
  },
  {
   "cell_type": "code",
   "execution_count": 35,
   "id": "ksl0UHAguw4A",
   "metadata": {
    "id": "ksl0UHAguw4A"
   },
   "outputs": [],
   "source": [
    "\n",
    "scaler = StandardScaler()\n",
    "np_scaled = scaler.fit_transform(t.y.values.reshape(-1, 1))\n",
    "data_sc = pd.DataFrame(np_scaled)"
   ]
  },
  {
   "cell_type": "code",
   "execution_count": 36,
   "id": "l6teIYFquw4A",
   "metadata": {
    "colab": {
     "base_uri": "https://localhost:8080/"
    },
    "id": "l6teIYFquw4A",
    "outputId": "6bd32589-cfd8-4635-deca-64a69476503c"
   },
   "outputs": [
    {
     "data": {
      "text/plain": [
       "IsolationForest(contamination=0.01)"
      ]
     },
     "execution_count": 36,
     "metadata": {},
     "output_type": "execute_result"
    }
   ],
   "source": [
    "outliers_fraction = float(.01)\n",
    "\n",
    "# train isolation forest\n",
    "model =  IsolationForest(contamination=outliers_fraction)\n",
    "model.fit(data_sc) "
   ]
  },
  {
   "cell_type": "code",
   "execution_count": 37,
   "id": "lfvz-Q32vH8y",
   "metadata": {
    "colab": {
     "base_uri": "https://localhost:8080/",
     "height": 35
    },
    "id": "lfvz-Q32vH8y",
    "outputId": "29834f60-d1d9-4ffb-ca15-be97d1d96a4a"
   },
   "outputs": [
    {
     "data": {
      "application/vnd.google.colaboratory.intrinsic+json": {
       "type": "string"
      },
      "text/plain": [
       "'BUTIKSBAKATBRÖD&_WIENERBRÖD&CROISSANT'"
      ]
     },
     "execution_count": 37,
     "metadata": {},
     "output_type": "execute_result"
    }
   ],
   "source": [
    "name_item = data[data[\"ItemID\"]==ItemID]['Unique_Item_Name'].iloc[0]\n",
    "name_item"
   ]
  },
  {
   "cell_type": "code",
   "execution_count": 38,
   "id": "JUBnMrPyuw4A",
   "metadata": {
    "colab": {
     "base_uri": "https://localhost:8080/",
     "height": 424
    },
    "id": "JUBnMrPyuw4A",
    "outputId": "29942978-17f9-487d-d1b5-792147867eb8"
   },
   "outputs": [
    {
     "data": {
      "text/html": [
       "\n",
       "  <div id=\"df-e17b4c7a-12bc-4a17-8a21-11fa78f41ce5\">\n",
       "    <div class=\"colab-df-container\">\n",
       "      <div>\n",
       "<style scoped>\n",
       "    .dataframe tbody tr th:only-of-type {\n",
       "        vertical-align: middle;\n",
       "    }\n",
       "\n",
       "    .dataframe tbody tr th {\n",
       "        vertical-align: top;\n",
       "    }\n",
       "\n",
       "    .dataframe thead th {\n",
       "        text-align: right;\n",
       "    }\n",
       "</style>\n",
       "<table border=\"1\" class=\"dataframe\">\n",
       "  <thead>\n",
       "    <tr style=\"text-align: right;\">\n",
       "      <th></th>\n",
       "      <th>ds</th>\n",
       "      <th>y</th>\n",
       "      <th>anomaly</th>\n",
       "    </tr>\n",
       "  </thead>\n",
       "  <tbody>\n",
       "    <tr>\n",
       "      <th>0</th>\n",
       "      <td>2020-02-01</td>\n",
       "      <td>0.0</td>\n",
       "      <td>1</td>\n",
       "    </tr>\n",
       "    <tr>\n",
       "      <th>1</th>\n",
       "      <td>2020-02-02</td>\n",
       "      <td>0.0</td>\n",
       "      <td>1</td>\n",
       "    </tr>\n",
       "    <tr>\n",
       "      <th>2</th>\n",
       "      <td>2020-02-03</td>\n",
       "      <td>0.0</td>\n",
       "      <td>1</td>\n",
       "    </tr>\n",
       "    <tr>\n",
       "      <th>3</th>\n",
       "      <td>2020-02-04</td>\n",
       "      <td>0.0</td>\n",
       "      <td>1</td>\n",
       "    </tr>\n",
       "    <tr>\n",
       "      <th>4</th>\n",
       "      <td>2020-02-05</td>\n",
       "      <td>6.0</td>\n",
       "      <td>1</td>\n",
       "    </tr>\n",
       "    <tr>\n",
       "      <th>...</th>\n",
       "      <td>...</td>\n",
       "      <td>...</td>\n",
       "      <td>...</td>\n",
       "    </tr>\n",
       "    <tr>\n",
       "      <th>116</th>\n",
       "      <td>2020-05-27</td>\n",
       "      <td>6.0</td>\n",
       "      <td>1</td>\n",
       "    </tr>\n",
       "    <tr>\n",
       "      <th>117</th>\n",
       "      <td>2020-05-28</td>\n",
       "      <td>6.0</td>\n",
       "      <td>1</td>\n",
       "    </tr>\n",
       "    <tr>\n",
       "      <th>118</th>\n",
       "      <td>2020-05-29</td>\n",
       "      <td>14.0</td>\n",
       "      <td>1</td>\n",
       "    </tr>\n",
       "    <tr>\n",
       "      <th>119</th>\n",
       "      <td>2020-05-30</td>\n",
       "      <td>0.0</td>\n",
       "      <td>1</td>\n",
       "    </tr>\n",
       "    <tr>\n",
       "      <th>120</th>\n",
       "      <td>2020-05-31</td>\n",
       "      <td>0.0</td>\n",
       "      <td>1</td>\n",
       "    </tr>\n",
       "  </tbody>\n",
       "</table>\n",
       "<p>121 rows × 3 columns</p>\n",
       "</div>\n",
       "      <button class=\"colab-df-convert\" onclick=\"convertToInteractive('df-e17b4c7a-12bc-4a17-8a21-11fa78f41ce5')\"\n",
       "              title=\"Convert this dataframe to an interactive table.\"\n",
       "              style=\"display:none;\">\n",
       "        \n",
       "  <svg xmlns=\"http://www.w3.org/2000/svg\" height=\"24px\"viewBox=\"0 0 24 24\"\n",
       "       width=\"24px\">\n",
       "    <path d=\"M0 0h24v24H0V0z\" fill=\"none\"/>\n",
       "    <path d=\"M18.56 5.44l.94 2.06.94-2.06 2.06-.94-2.06-.94-.94-2.06-.94 2.06-2.06.94zm-11 1L8.5 8.5l.94-2.06 2.06-.94-2.06-.94L8.5 2.5l-.94 2.06-2.06.94zm10 10l.94 2.06.94-2.06 2.06-.94-2.06-.94-.94-2.06-.94 2.06-2.06.94z\"/><path d=\"M17.41 7.96l-1.37-1.37c-.4-.4-.92-.59-1.43-.59-.52 0-1.04.2-1.43.59L10.3 9.45l-7.72 7.72c-.78.78-.78 2.05 0 2.83L4 21.41c.39.39.9.59 1.41.59.51 0 1.02-.2 1.41-.59l7.78-7.78 2.81-2.81c.8-.78.8-2.07 0-2.86zM5.41 20L4 18.59l7.72-7.72 1.47 1.35L5.41 20z\"/>\n",
       "  </svg>\n",
       "      </button>\n",
       "      \n",
       "  <style>\n",
       "    .colab-df-container {\n",
       "      display:flex;\n",
       "      flex-wrap:wrap;\n",
       "      gap: 12px;\n",
       "    }\n",
       "\n",
       "    .colab-df-convert {\n",
       "      background-color: #E8F0FE;\n",
       "      border: none;\n",
       "      border-radius: 50%;\n",
       "      cursor: pointer;\n",
       "      display: none;\n",
       "      fill: #1967D2;\n",
       "      height: 32px;\n",
       "      padding: 0 0 0 0;\n",
       "      width: 32px;\n",
       "    }\n",
       "\n",
       "    .colab-df-convert:hover {\n",
       "      background-color: #E2EBFA;\n",
       "      box-shadow: 0px 1px 2px rgba(60, 64, 67, 0.3), 0px 1px 3px 1px rgba(60, 64, 67, 0.15);\n",
       "      fill: #174EA6;\n",
       "    }\n",
       "\n",
       "    [theme=dark] .colab-df-convert {\n",
       "      background-color: #3B4455;\n",
       "      fill: #D2E3FC;\n",
       "    }\n",
       "\n",
       "    [theme=dark] .colab-df-convert:hover {\n",
       "      background-color: #434B5C;\n",
       "      box-shadow: 0px 1px 3px 1px rgba(0, 0, 0, 0.15);\n",
       "      filter: drop-shadow(0px 1px 2px rgba(0, 0, 0, 0.3));\n",
       "      fill: #FFFFFF;\n",
       "    }\n",
       "  </style>\n",
       "\n",
       "      <script>\n",
       "        const buttonEl =\n",
       "          document.querySelector('#df-e17b4c7a-12bc-4a17-8a21-11fa78f41ce5 button.colab-df-convert');\n",
       "        buttonEl.style.display =\n",
       "          google.colab.kernel.accessAllowed ? 'block' : 'none';\n",
       "\n",
       "        async function convertToInteractive(key) {\n",
       "          const element = document.querySelector('#df-e17b4c7a-12bc-4a17-8a21-11fa78f41ce5');\n",
       "          const dataTable =\n",
       "            await google.colab.kernel.invokeFunction('convertToInteractive',\n",
       "                                                     [key], {});\n",
       "          if (!dataTable) return;\n",
       "\n",
       "          const docLinkHtml = 'Like what you see? Visit the ' +\n",
       "            '<a target=\"_blank\" href=https://colab.research.google.com/notebooks/data_table.ipynb>data table notebook</a>'\n",
       "            + ' to learn more about interactive tables.';\n",
       "          element.innerHTML = '';\n",
       "          dataTable['output_type'] = 'display_data';\n",
       "          await google.colab.output.renderOutput(dataTable, element);\n",
       "          const docLink = document.createElement('div');\n",
       "          docLink.innerHTML = docLinkHtml;\n",
       "          element.appendChild(docLink);\n",
       "        }\n",
       "      </script>\n",
       "    </div>\n",
       "  </div>\n",
       "  "
      ],
      "text/plain": [
       "             ds     y  anomaly\n",
       "0    2020-02-01   0.0        1\n",
       "1    2020-02-02   0.0        1\n",
       "2    2020-02-03   0.0        1\n",
       "3    2020-02-04   0.0        1\n",
       "4    2020-02-05   6.0        1\n",
       "..          ...   ...      ...\n",
       "116  2020-05-27   6.0        1\n",
       "117  2020-05-28   6.0        1\n",
       "118  2020-05-29  14.0        1\n",
       "119  2020-05-30   0.0        1\n",
       "120  2020-05-31   0.0        1\n",
       "\n",
       "[121 rows x 3 columns]"
      ]
     },
     "execution_count": 38,
     "metadata": {},
     "output_type": "execute_result"
    }
   ],
   "source": [
    "t['anomaly'] = model.predict(data_sc)\n",
    "t"
   ]
  },
  {
   "cell_type": "code",
   "execution_count": 39,
   "id": "Vqk90joAuw4A",
   "metadata": {
    "colab": {
     "base_uri": "https://localhost:8080/",
     "height": 112
    },
    "id": "Vqk90joAuw4A",
    "outputId": "f9b27b0c-56af-41d1-f7d4-72995deaf463"
   },
   "outputs": [
    {
     "data": {
      "text/html": [
       "\n",
       "  <div id=\"df-567dd795-c655-402c-b818-47d28124246f\">\n",
       "    <div class=\"colab-df-container\">\n",
       "      <div>\n",
       "<style scoped>\n",
       "    .dataframe tbody tr th:only-of-type {\n",
       "        vertical-align: middle;\n",
       "    }\n",
       "\n",
       "    .dataframe tbody tr th {\n",
       "        vertical-align: top;\n",
       "    }\n",
       "\n",
       "    .dataframe thead th {\n",
       "        text-align: right;\n",
       "    }\n",
       "</style>\n",
       "<table border=\"1\" class=\"dataframe\">\n",
       "  <thead>\n",
       "    <tr style=\"text-align: right;\">\n",
       "      <th></th>\n",
       "      <th>y</th>\n",
       "    </tr>\n",
       "  </thead>\n",
       "  <tbody>\n",
       "    <tr>\n",
       "      <th>27</th>\n",
       "      <td>36.0</td>\n",
       "    </tr>\n",
       "    <tr>\n",
       "      <th>32</th>\n",
       "      <td>26.0</td>\n",
       "    </tr>\n",
       "  </tbody>\n",
       "</table>\n",
       "</div>\n",
       "      <button class=\"colab-df-convert\" onclick=\"convertToInteractive('df-567dd795-c655-402c-b818-47d28124246f')\"\n",
       "              title=\"Convert this dataframe to an interactive table.\"\n",
       "              style=\"display:none;\">\n",
       "        \n",
       "  <svg xmlns=\"http://www.w3.org/2000/svg\" height=\"24px\"viewBox=\"0 0 24 24\"\n",
       "       width=\"24px\">\n",
       "    <path d=\"M0 0h24v24H0V0z\" fill=\"none\"/>\n",
       "    <path d=\"M18.56 5.44l.94 2.06.94-2.06 2.06-.94-2.06-.94-.94-2.06-.94 2.06-2.06.94zm-11 1L8.5 8.5l.94-2.06 2.06-.94-2.06-.94L8.5 2.5l-.94 2.06-2.06.94zm10 10l.94 2.06.94-2.06 2.06-.94-2.06-.94-.94-2.06-.94 2.06-2.06.94z\"/><path d=\"M17.41 7.96l-1.37-1.37c-.4-.4-.92-.59-1.43-.59-.52 0-1.04.2-1.43.59L10.3 9.45l-7.72 7.72c-.78.78-.78 2.05 0 2.83L4 21.41c.39.39.9.59 1.41.59.51 0 1.02-.2 1.41-.59l7.78-7.78 2.81-2.81c.8-.78.8-2.07 0-2.86zM5.41 20L4 18.59l7.72-7.72 1.47 1.35L5.41 20z\"/>\n",
       "  </svg>\n",
       "      </button>\n",
       "      \n",
       "  <style>\n",
       "    .colab-df-container {\n",
       "      display:flex;\n",
       "      flex-wrap:wrap;\n",
       "      gap: 12px;\n",
       "    }\n",
       "\n",
       "    .colab-df-convert {\n",
       "      background-color: #E8F0FE;\n",
       "      border: none;\n",
       "      border-radius: 50%;\n",
       "      cursor: pointer;\n",
       "      display: none;\n",
       "      fill: #1967D2;\n",
       "      height: 32px;\n",
       "      padding: 0 0 0 0;\n",
       "      width: 32px;\n",
       "    }\n",
       "\n",
       "    .colab-df-convert:hover {\n",
       "      background-color: #E2EBFA;\n",
       "      box-shadow: 0px 1px 2px rgba(60, 64, 67, 0.3), 0px 1px 3px 1px rgba(60, 64, 67, 0.15);\n",
       "      fill: #174EA6;\n",
       "    }\n",
       "\n",
       "    [theme=dark] .colab-df-convert {\n",
       "      background-color: #3B4455;\n",
       "      fill: #D2E3FC;\n",
       "    }\n",
       "\n",
       "    [theme=dark] .colab-df-convert:hover {\n",
       "      background-color: #434B5C;\n",
       "      box-shadow: 0px 1px 3px 1px rgba(0, 0, 0, 0.15);\n",
       "      filter: drop-shadow(0px 1px 2px rgba(0, 0, 0, 0.3));\n",
       "      fill: #FFFFFF;\n",
       "    }\n",
       "  </style>\n",
       "\n",
       "      <script>\n",
       "        const buttonEl =\n",
       "          document.querySelector('#df-567dd795-c655-402c-b818-47d28124246f button.colab-df-convert');\n",
       "        buttonEl.style.display =\n",
       "          google.colab.kernel.accessAllowed ? 'block' : 'none';\n",
       "\n",
       "        async function convertToInteractive(key) {\n",
       "          const element = document.querySelector('#df-567dd795-c655-402c-b818-47d28124246f');\n",
       "          const dataTable =\n",
       "            await google.colab.kernel.invokeFunction('convertToInteractive',\n",
       "                                                     [key], {});\n",
       "          if (!dataTable) return;\n",
       "\n",
       "          const docLinkHtml = 'Like what you see? Visit the ' +\n",
       "            '<a target=\"_blank\" href=https://colab.research.google.com/notebooks/data_table.ipynb>data table notebook</a>'\n",
       "            + ' to learn more about interactive tables.';\n",
       "          element.innerHTML = '';\n",
       "          dataTable['output_type'] = 'display_data';\n",
       "          await google.colab.output.renderOutput(dataTable, element);\n",
       "          const docLink = document.createElement('div');\n",
       "          docLink.innerHTML = docLinkHtml;\n",
       "          element.appendChild(docLink);\n",
       "        }\n",
       "      </script>\n",
       "    </div>\n",
       "  </div>\n",
       "  "
      ],
      "text/plain": [
       "       y\n",
       "27  36.0\n",
       "32  26.0"
      ]
     },
     "execution_count": 39,
     "metadata": {},
     "output_type": "execute_result"
    }
   ],
   "source": [
    "\n",
    "a = t.loc[t['anomaly'] == -1, ['y']] #anomaly\n",
    "a\n",
    "#t.iloc[a.index]"
   ]
  },
  {
   "cell_type": "code",
   "execution_count": 40,
   "id": "bqS78fTquw4A",
   "metadata": {
    "colab": {
     "base_uri": "https://localhost:8080/",
     "height": 576
    },
    "id": "bqS78fTquw4A",
    "outputId": "6a5c0941-bb76-47d8-d244-6f6ff5ddcfa9"
   },
   "outputs": [
    {
     "data": {
      "image/png": "[encoded data removed]",
      "text/plain": [
       "<Figure size 1800x576 with 1 Axes>"
      ]
     },
     "metadata": {
      "needs_background": "light"
     },
     "output_type": "display_data"
    }
   ],
   "source": [
    "\n",
    "# visualization\n",
    "fig, ax = plt.subplots(figsize=(25,8))\n",
    "\n",
    "a = t.loc[t['anomaly'] == -1, ['ds', 'y']] #anomaly\n",
    "\n",
    "ax.plot(t.ds, t['y'], color='black', label = 'Normal')\n",
    "ax.scatter(a.ds,a['y'], color='red', label = 'Anomaly')\n",
    "plt.xticks(rotation = 90) # Rotates X-Axis Ticks by 90-degrees\n",
    "\n",
    "ax.set(title=\"Outliers detection of product = \" + name_item)\n",
    "\n",
    "plt.legend()\n",
    "plt.show();\n"
   ]
  },
  {
   "cell_type": "code",
   "execution_count": 40,
   "id": "uzFY4aOfuw4B",
   "metadata": {
    "id": "uzFY4aOfuw4B"
   },
   "outputs": [],
   "source": [
    " "
   ]
  },
  {
   "cell_type": "code",
   "execution_count": 40,
   "id": "RgQHguzx0RLO",
   "metadata": {
    "id": "RgQHguzx0RLO"
   },
   "outputs": [],
   "source": []
  }
 ],
 "metadata": {
  "colab": {
   "collapsed_sections": [
    "ee041616"
   ],
   "name": "Isolation forest Viral Trending product detection - Coop Case Study.ipynb",
   "provenance": []
  },
  "kernelspec": {
   "display_name": "Python 3 (ipykernel)",
   "language": "python",
   "name": "python3"
  },
  "language_info": {
   "codemirror_mode": {
    "name": "ipython",
    "version": 3
   },
   "file_extension": ".py",
   "mimetype": "text/x-python",
   "name": "python",
   "nbconvert_exporter": "python",
   "pygments_lexer": "ipython3",
   "version": "3.8.3"
  }
 },
 "nbformat": 4,
 "nbformat_minor": 5
}
